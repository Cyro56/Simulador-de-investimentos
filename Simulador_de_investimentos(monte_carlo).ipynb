{
  "nbformat": 4,
  "nbformat_minor": 0,
  "metadata": {
    "colab": {
      "name": "Simulador-de-investimentos(monte carlo).ipynb",
      "provenance": [],
      "authorship_tag": "ABX9TyOUBJDM7FivbevS1UjzNkXC",
      "include_colab_link": true
    },
    "kernelspec": {
      "name": "python3",
      "display_name": "Python 3"
    },
    "language_info": {
      "name": "python"
    }
  },
  "cells": [
    {
      "cell_type": "markdown",
      "metadata": {
        "id": "view-in-github",
        "colab_type": "text"
      },
      "source": [
        "<a href=\"https://colab.research.google.com/github/Cyro56/Simulador-de-investimentos/blob/main/Simulador_de_investimentos(monte_carlo).ipynb\" target=\"_parent\"><img src=\"https://colab.research.google.com/assets/colab-badge.svg\" alt=\"Open In Colab\"/></a>"
      ]
    },
    {
      "cell_type": "code",
      "metadata": {
        "id": "aXYyW51aOOnB"
      },
      "source": [
        "import matplotlib.pyplot as plt\n",
        "import numpy as np\n",
        "import random\n",
        "import time"
      ],
      "execution_count": null,
      "outputs": []
    },
    {
      "cell_type": "code",
      "metadata": {
        "id": "l8DoLAVvP7n1"
      },
      "source": [
        "#Criando variáveis\n",
        "Type = str(input(\"Escolha entre investimento de renda fixa ou variável, exemplo: var \"))\n",
        "t1 = float(input(\"diga o número de meses que permanecerá investindo \" ))\n",
        "C0 = float(input(\"informe o capital inicial \"))\n",
        "R = float(input(\"informe seu investimento mensal \"))\n",
        "\n",
        "\n",
        "while True:\n",
        "  if Type == \"var\":\n",
        "    t = np.arange(0,t1,1)\n",
        "    i = (random.random())/10\n",
        "\n",
        "    #apresentação de resultados\n",
        "    print(\"sua taxa de retorno mensal foi de: \", i*100 , \"%\")\n",
        "    print(\"Você investiu um total de: \", t1*R + C0 , \"Reais\")\n",
        "\n",
        "    plt.plot(t,((R/i)*((i+1)**t - 1)) + C0*(1+i)**t)\n",
        "    plt.show()\n",
        "    time.sleep(5)\n",
        "  else:\n",
        "    i = float(input(\"informe a taxa mensal de retorno ex: 0.01 para 1% \"))\n",
        "\n",
        "    #apresentação de resultados\n",
        "    print(\"sua taxa de retorno mensal foi de: \", i*100 , \"%\")\n",
        "    print(\"Você investiu um total de: \", t1*R + C0 , \"Reais\")\n",
        "\n",
        "    #Plotando Renda Fixa\n",
        "    t = np.arange(0,t1,1)\n",
        "    plt.plot(t,((R/i)*((i+1)**t - 1)) + C0*(1+i)**t)\n",
        "    plt.show()\n",
        "\n",
        "  "
      ],
      "execution_count": null,
      "outputs": []
    },
    {
      "cell_type": "code",
      "metadata": {
        "id": "FBaEjiWvwjjY"
      },
      "source": [
        ""
      ],
      "execution_count": null,
      "outputs": []
    },
    {
      "cell_type": "code",
      "metadata": {
        "id": "_rQYV7ZRBd17"
      },
      "source": [
        ""
      ],
      "execution_count": null,
      "outputs": []
    }
  ]
}