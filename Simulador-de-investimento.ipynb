{
  "nbformat": 4,
  "nbformat_minor": 0,
  "metadata": {
    "colab": {
      "name": "Untitled8.ipynb",
      "provenance": []
    },
    "kernelspec": {
      "name": "python3",
      "display_name": "Python 3"
    },
    "language_info": {
      "name": "python"
    }
  },
  "cells": [
    {
      "cell_type": "code",
      "metadata": {
        "id": "aXYyW51aOOnB"
      },
      "source": [
        "import matplotlib.pyplot as plt\n",
        "import numpy as np\n",
        "import random"
      ],
      "execution_count": 22,
      "outputs": []
    },
    {
      "cell_type": "code",
      "metadata": {
        "id": "l8DoLAVvP7n1",
        "colab": {
          "base_uri": "https://localhost:8080/",
          "height": 384
        },
        "outputId": "bfa04311-d571-4a58-fd3d-c441e33a2929"
      },
      "source": [
        "#Criando variáveis\n",
        "Type = str(input(\"Escolha entre investimento de renda fixa ou variável, exemplo: FIXA \"))\n",
        "t1 = float(input(\"diga o número de meses que permanecerá investindo \" ))\n",
        "C0 = float(input(\"informe o capital inicial \"))\n",
        "R = float(input(\"informe seu investimento mensal \"))\n",
        "\n",
        "\n",
        "\n",
        "if Type == \"FIXA\" or \"fixa\" or \"Fixa\":\n",
        "  i = float(input(\"informe a taxa mensal de retorno ex: 0.01 para 1% \"))\n",
        "\n",
        "  \n",
        " #apresentação de resultados\n",
        "  print(\"sua taxa de retorno mensal foi de: \", i*100 , \"%\")\n",
        "  print(\"Você investiu um total de: \", t1*R + C0 , \"Reais\")\n",
        "\n",
        "\n",
        "\n",
        "\n",
        "  #Plotando Renda Fixa\n",
        "  t = np.arange(0,t1,1)\n",
        "  plt.plot(t,((R/i)*((i+1)**t - 1)) + C0*(1+i)**t)\n",
        "  plt.show()\n",
        "else:\n",
        "  t = np.arange(0,t1,1)\n",
        "  i = (random.random())/10\n",
        " \n",
        " #apresentação de resultados\n",
        "  print(\"sua taxa de retorno mensal foi de: \", i*100 , \"%\")\n",
        "  print(\"Você investiu um total de: \", t1*R + C0 , \"Reais\")\n",
        "\n",
        " \n",
        "\n",
        "  plt.plot(t,((R/i)*((i+1)**t - 1)) + C0*(1+i)**t)\n",
        "  plt.show()\n",
        "  "
      ],
      "execution_count": 45,
      "outputs": [
        {
          "output_type": "stream",
          "text": [
            "Escolha entre investimento de renda fixa ou variável, exemplo: FIXA Fixa\n",
            "diga o número de meses que permanecerá investindo 12\n",
            "informe o capital inicial 12\n",
            "informe seu investimento mensal 1\n",
            "informe a taxa mensal de retorno ex: 0.01 para 1% 0.01\n",
            "sua taxa de retorno mensal foi de:  1.0 %\n",
            "Você investiu um total de:  24.0 Reais\n"
          ],
          "name": "stdout"
        },
        {
          "output_type": "display_data",
          "data": {
            "image/png": "[encoded data removed]",
            "text/plain": [
              "<Figure size 432x288 with 1 Axes>"
            ]
          },
          "metadata": {
            "tags": [],
            "needs_background": "light"
          }
        }
      ]
    },
    {
      "cell_type": "code",
      "metadata": {
        "id": "FBaEjiWvwjjY"
      },
      "source": [
        ""
      ],
      "execution_count": null,
      "outputs": []
    }
  ]
}